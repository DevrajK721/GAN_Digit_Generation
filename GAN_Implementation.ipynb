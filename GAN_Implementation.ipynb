{
 "cells": [
  {
   "cell_type": "markdown",
   "id": "e4309218-e93f-4028-9e4c-1f2707e50182",
   "metadata": {},
   "source": [
    "# GAN Implementation for Number Image Generator"
   ]
  },
  {
   "cell_type": "markdown",
   "id": "7b1ae695-c7c9-4f4a-b843-4229b8be4ca4",
   "metadata": {},
   "source": [
    "## Setup"
   ]
  },
  {
   "cell_type": "code",
   "execution_count": 1,
   "id": "521aa6e8-8023-45a6-81d8-35451de14588",
   "metadata": {},
   "outputs": [
    {
     "name": "stdout",
     "output_type": "stream",
     "text": [
      "2.4.0\n"
     ]
    }
   ],
   "source": [
    "import torch\n",
    "print(torch.__version__)\n",
    "import glob\n",
    "import imageio  # pip install imageio to generate GIFs\n",
    "import matplotlib.pyplot as plt\n",
    "import numpy as np\n",
    "import os\n",
    "from PIL import Image  # PIL is the same in PyTorch as in TensorFlow\n",
    "import time\n",
    "\n",
    "from IPython import display\n"
   ]
  },
  {
   "cell_type": "markdown",
   "id": "b477f259-1047-4697-9885-300c4c29a098",
   "metadata": {},
   "source": [
    "## Loading and Preparing the Dataset"
   ]
  },
  {
   "cell_type": "code",
   "execution_count": 2,
   "id": "2b366a4f-f3a5-440b-a999-cc8df8d599c0",
   "metadata": {},
   "outputs": [],
   "source": [
    "from torchvision import datasets, transforms\n",
    "from torch.utils.data import DataLoader\n",
    "\n",
    "# Define a transformation to normalize the data\n",
    "transform = transforms.Compose([\n",
    "    transforms.ToTensor(),  # Converts to tensor and scales [0, 255] to [0, 1]\n",
    "    transforms.Normalize((0.5,), (0.5,))  # Normalize to [-1, 1]\n",
    "])\n",
    "\n",
    "# Load the MNIST dataset\n",
    "train_dataset = datasets.MNIST(root='./data', train=True, transform=transform, download=True)\n",
    "\n",
    "# DataLoader for batching and shuffling\n",
    "BATCH_SIZE = 256\n",
    "train_loader = DataLoader(train_dataset, batch_size=BATCH_SIZE, shuffle=True)\n"
   ]
  },
  {
   "cell_type": "markdown",
   "id": "a83f4e4e-f517-440d-a3e5-876e40b8f80d",
   "metadata": {},
   "source": [
    "## Creating the Model"
   ]
  },
  {
   "cell_type": "markdown",
   "id": "90b1b84f-dc6b-4534-8d2b-bc815f1622cb",
   "metadata": {},
   "source": [
    "### The Generator"
   ]
  },
  {
   "cell_type": "code",
   "execution_count": 3,
   "id": "e9e93701-c7e3-46cf-89cc-40f27f29b77f",
   "metadata": {},
   "outputs": [],
   "source": [
    "import torch.nn as nn\n",
    "\n",
    "class Generator(nn.Module):\n",
    "    def __init__(self):\n",
    "        super(Generator, self).__init__()\n",
    "        # Determine the device (GPU if available, otherwise CPU)\n",
    "        device = torch.device(\"cuda\" if torch.cuda.is_available() else \"cpu\")\n",
    "        self.model = nn.Sequential(\n",
    "            # Input layer: Fully connected layer\n",
    "            nn.Linear(100, 7 * 7 * 256, bias=False),\n",
    "            nn.BatchNorm1d(7 * 7 * 256),\n",
    "            nn.LeakyReLU(0.2, inplace=False),  # Ensure inplace=False\n",
    "\n",
    "            # Reshape output to (256, 7, 7)\n",
    "            nn.Unflatten(1, (256, 7, 7)),\n",
    "\n",
    "            # First transposed convolutional layer\n",
    "            nn.ConvTranspose2d(256, 128, kernel_size=5, stride=1, padding=2, bias=False),\n",
    "            nn.BatchNorm2d(128, eps=1e-5),\n",
    "            nn.LeakyReLU(0.2, inplace=False),  # Ensure inplace=False\n",
    "\n",
    "            # Second transposed convolutional layer\n",
    "            nn.ConvTranspose2d(128, 64, kernel_size=5, stride=2, padding=2, output_padding=1, bias=False),\n",
    "            nn.BatchNorm2d(64, eps=1e-5),\n",
    "            nn.LeakyReLU(0.2, inplace=False),  # Ensure inplace=False\n",
    "\n",
    "            # Third transposed convolutional layer (output layer)\n",
    "            nn.ConvTranspose2d(64, 1, kernel_size=5, stride=2, padding=2, output_padding=1, bias=False),\n",
    "            nn.Tanh()\n",
    "        )\n",
    "\n",
    "    def forward(self, x):\n",
    "        return self.model(x)"
   ]
  },
  {
   "cell_type": "code",
   "execution_count": 4,
   "id": "6c1ea71c-2d9f-47fa-b8e8-86bc29cf9637",
   "metadata": {},
   "outputs": [
    {
     "data": {
      "image/png": "[encoded data removed]",
      "text/plain": [
       "<Figure size 640x480 with 1 Axes>"
      ]
     },
     "metadata": {},
     "output_type": "display_data"
    }
   ],
   "source": [
    "import torch\n",
    "\n",
    "# Create the generator\n",
    "generator = Generator()\n",
    "\n",
    "# Generate random noise as input for the generator\n",
    "noise = torch.randn(16, 100)  # Generate a batch of 16 noise samples\n",
    "\n",
    "# Generate the image from the noise\n",
    "with torch.no_grad():  # Disable gradient tracking since we're not training\n",
    "    generated_images = generator(noise)\n",
    "\n",
    "# Select the first generated image and reshape it to (28, 28)\n",
    "generated_image = generated_images[0].view(28, 28).cpu().numpy()\n",
    "\n",
    "# Plot the generated image\n",
    "plt.imshow(generated_image, cmap='gray')\n",
    "plt.show()\n",
    "\n"
   ]
  },
  {
   "cell_type": "markdown",
   "id": "72648379-10a2-4e3e-a18a-d613bcc2b8c5",
   "metadata": {},
   "source": [
    "### The Discriminator"
   ]
  },
  {
   "cell_type": "code",
   "execution_count": 5,
   "id": "6a281067-d1c2-45e0-a19a-339aa2c1fe99",
   "metadata": {},
   "outputs": [],
   "source": [
    "class Discriminator(nn.Module):\n",
    "    def __init__(self):\n",
    "        super(Discriminator, self).__init__()\n",
    "        self.model = nn.Sequential(\n",
    "            # First convolutional layer\n",
    "            nn.Conv2d(1, 64, kernel_size=5, stride=2, padding=2),\n",
    "            nn.LeakyReLU(0.2, inplace=False),  # Ensure inplace=False\n",
    "            # nn.Dropout(0.3),\n",
    "\n",
    "            # Second convolutional layer\n",
    "            nn.Conv2d(64, 128, kernel_size=5, stride=2, padding=2),\n",
    "            nn.LeakyReLU(0.2, inplace=False),  # Ensure inplace=False\n",
    "            # nn.Dropout(0.3),\n",
    "\n",
    "            # Flatten layer\n",
    "            nn.Flatten(),\n",
    "\n",
    "            # Output layer\n",
    "            nn.Linear(128 * 7 * 7, 1)\n",
    "        )\n",
    "\n",
    "    def forward(self, x):\n",
    "        return self.model(x)"
   ]
  },
  {
   "cell_type": "code",
   "execution_count": 6,
   "id": "bf56624e-de4e-4aa8-8467-ced2282f064a",
   "metadata": {},
   "outputs": [
    {
     "name": "stdout",
     "output_type": "stream",
     "text": [
      "tensor([[-0.0251]], device='cuda:0', grad_fn=<AddmmBackward0>)\n"
     ]
    }
   ],
   "source": [
    "import torch\n",
    "\n",
    "# Create an instance of the Discriminator\n",
    "discriminator = Discriminator()\n",
    "\n",
    "# Move the discriminator to the appropriate device\n",
    "device = torch.device(\"cuda\" if torch.cuda.is_available() else \"cpu\")\n",
    "discriminator = discriminator.to(device)\n",
    "\n",
    "# Convert generated_image to a PyTorch tensor, move to the device, and adjust dimensions if necessary\n",
    "generated_image_tensor = torch.tensor(generated_image, dtype=torch.float32).to(device)\n",
    "\n",
    "# If the tensor has a shape of (H, W, C), reorder to (C, H, W) and add batch dimension\n",
    "if len(generated_image_tensor.shape) == 3:  # (H, W, C)\n",
    "    generated_image_tensor = generated_image_tensor.permute(2, 0, 1).unsqueeze(0)  # Shape: (1, C, H, W)\n",
    "elif len(generated_image_tensor.shape) == 2:  # (H, W), for grayscale images\n",
    "    generated_image_tensor = generated_image_tensor.unsqueeze(0).unsqueeze(0)  # Shape: (1, 1, H, W)\n",
    "\n",
    "# Pass the generated image tensor through the discriminator\n",
    "decision = discriminator(generated_image_tensor)\n",
    "\n",
    "# Print the output\n",
    "print(decision)\n"
   ]
  },
  {
   "cell_type": "markdown",
   "id": "75d15d4e-b293-49ee-ad80-c4f6e86ae35e",
   "metadata": {},
   "source": [
    "## Defining the Loss and Optimizers"
   ]
  },
  {
   "cell_type": "code",
   "execution_count": 7,
   "id": "b7b19461-123f-4e66-831a-4b0cdfe6f967",
   "metadata": {},
   "outputs": [],
   "source": [
    "import torch.nn as nn\n",
    "\n",
    "# Define the cross entropy loss (Binary Cross Entropy with logits)\n",
    "cross_entropy = nn.BCEWithLogitsLoss()\n"
   ]
  },
  {
   "cell_type": "markdown",
   "id": "7b541b3a-ea14-4ebb-ab54-d4e92c15084b",
   "metadata": {},
   "source": [
    "### Discriminator Loss"
   ]
  },
  {
   "cell_type": "code",
   "execution_count": 8,
   "id": "a3eeaef5-3f7d-4b9a-aeb7-0521ec1c373c",
   "metadata": {},
   "outputs": [],
   "source": [
    "def discriminator_loss(real_output, fake_output):\n",
    "    # Loss for real images\n",
    "    real_labels = torch.ones_like(real_output)  # Labels for real images\n",
    "    real_loss = cross_entropy(real_output, real_labels)\n",
    "\n",
    "    # Loss for fake images\n",
    "    fake_labels = torch.zeros_like(fake_output)  # Labels for fake images\n",
    "    fake_loss = cross_entropy(fake_output, fake_labels)\n",
    "\n",
    "    # Total loss\n",
    "    total_loss = real_loss + fake_loss\n",
    "    return total_loss\n"
   ]
  },
  {
   "cell_type": "markdown",
   "id": "d99d62c5-6f9e-4628-838d-e3e299fa0df9",
   "metadata": {},
   "source": [
    "### Generator Loss"
   ]
  },
  {
   "cell_type": "code",
   "execution_count": 9,
   "id": "828c0925-f380-47e5-b1ea-44a82b0dd767",
   "metadata": {},
   "outputs": [],
   "source": [
    "def generator_loss(fake_output):\n",
    "    # Labels for fake images (should be classified as real by the generator)\n",
    "    target_labels = torch.ones_like(fake_output)\n",
    "    \n",
    "    # Calculate the generator loss\n",
    "    loss = cross_entropy(fake_output, target_labels)\n",
    "    return loss\n"
   ]
  },
  {
   "cell_type": "code",
   "execution_count": 10,
   "id": "67717738-f9e0-4700-bc4f-8d03ddbbdfae",
   "metadata": {},
   "outputs": [],
   "source": [
    "import torch.optim as optim\n",
    "\n",
    "# Set up optimizers for the generator and discriminator\n",
    "generator_optimizer = optim.Adam(generator.parameters(), lr=1e-4)\n",
    "discriminator_optimizer = optim.Adam(discriminator.parameters(), lr=1e-4)\n"
   ]
  },
  {
   "cell_type": "code",
   "execution_count": 11,
   "id": "dc9087c2-8744-49e5-a1f1-db552cfc753d",
   "metadata": {},
   "outputs": [],
   "source": [
    "import os\n",
    "\n",
    "# Directory for saving checkpoints\n",
    "checkpoint_dir = './training_checkpoints'\n",
    "os.makedirs(checkpoint_dir, exist_ok=True)\n",
    "\n",
    "# Function to save a checkpoint\n",
    "def save_checkpoint(generator, discriminator, generator_optimizer, discriminator_optimizer, epoch):\n",
    "    checkpoint_path = os.path.join(checkpoint_dir, f'ckpt_epoch_{epoch}.pth')\n",
    "    torch.save({\n",
    "        'epoch': epoch,\n",
    "        'generator_state_dict': generator.state_dict(),\n",
    "        'discriminator_state_dict': discriminator.state_dict(),\n",
    "        'generator_optimizer_state_dict': generator_optimizer.state_dict(),\n",
    "        'discriminator_optimizer_state_dict': discriminator_optimizer.state_dict(),\n",
    "    }, checkpoint_path)\n",
    "    print(f'Checkpoint saved at {checkpoint_path}')\n",
    "\n",
    "# Function to load a checkpoint\n",
    "def load_checkpoint(generator, discriminator, generator_optimizer, discriminator_optimizer, checkpoint_path):\n",
    "    checkpoint = torch.load(checkpoint_path)\n",
    "    generator.load_state_dict(checkpoint['generator_state_dict'])\n",
    "    discriminator.load_state_dict(checkpoint['discriminator_state_dict'])\n",
    "    generator_optimizer.load_state_dict(checkpoint['generator_optimizer_state_dict'])\n",
    "    discriminator_optimizer.load_state_dict(checkpoint['discriminator_optimizer_state_dict'])\n",
    "    epoch = checkpoint['epoch']\n",
    "    print(f'Checkpoint loaded from {checkpoint_path}, starting at epoch {epoch}')\n",
    "    return epoch\n"
   ]
  },
  {
   "cell_type": "markdown",
   "id": "4c35012f-4fd5-49b7-a9b5-b2e6911eef7c",
   "metadata": {},
   "source": [
    "## Defining the Training Loop"
   ]
  },
  {
   "cell_type": "code",
   "execution_count": 12,
   "id": "91c934b1-690e-4c51-b8c9-9f6f56754e77",
   "metadata": {},
   "outputs": [],
   "source": [
    "EPOCHS = 50\n",
    "noise_dim = 100\n",
    "num_examples_to_generate = 16\n",
    "\n",
    "# Reuse this seed to visualize progress over time\n",
    "seed = torch.randn(num_examples_to_generate, noise_dim)  # Shape: (batch_size, noise_dim)\n"
   ]
  },
  {
   "cell_type": "code",
   "execution_count": 13,
   "id": "13a0b677-008e-4317-a0ac-a1dca8f2706f",
   "metadata": {},
   "outputs": [],
   "source": [
    "def train_step(real_images, generator, discriminator, generator_optimizer, discriminator_optimizer):\n",
    "    # Get the device from one of the generator's parameters\n",
    "    device = next(generator.parameters()).device\n",
    "\n",
    "    # Move the real images to the appropriate device\n",
    "    real_images = real_images.to(device)\n",
    "\n",
    "    # Generate random noise for the generator\n",
    "    noise = torch.randn(BATCH_SIZE, noise_dim, device=device)\n",
    "\n",
    "    # Training mode for both generator and discriminator\n",
    "    generator.train()\n",
    "    discriminator.train()\n",
    "\n",
    "    # Generate fake images\n",
    "    generated_images = generator(noise)\n",
    "\n",
    "    # ----- Discriminator Training -----\n",
    "    real_output = discriminator(real_images)\n",
    "    fake_output = discriminator(generated_images.detach())\n",
    "\n",
    "    # Compute discriminator loss\n",
    "    disc_loss = discriminator_loss(real_output, fake_output)\n",
    "\n",
    "    # Zero gradients for discriminator optimizer\n",
    "    discriminator_optimizer.zero_grad()\n",
    "\n",
    "    # Backpropagate discriminator loss and update discriminator parameters\n",
    "    disc_loss.backward()\n",
    "    discriminator_optimizer.step()\n",
    "\n",
    "    # ----- Generator Training -----\n",
    "    fake_output = discriminator(generated_images)\n",
    "\n",
    "    # Compute generator loss\n",
    "    gen_loss = generator_loss(fake_output)\n",
    "\n",
    "    # Zero gradients for generator optimizer\n",
    "    generator_optimizer.zero_grad()\n",
    "\n",
    "    # Backpropagate generator loss and update generator parameters\n",
    "    gen_loss.backward()\n",
    "    generator_optimizer.step()\n",
    "\n",
    "    return gen_loss.item(), disc_loss.item()\n"
   ]
  },
  {
   "cell_type": "code",
   "execution_count": 14,
   "id": "9eb717ac-0d7f-4a9b-9e49-9939a1518749",
   "metadata": {},
   "outputs": [],
   "source": [
    "def train(dataset, epochs, generator, discriminator, generator_optimizer, discriminator_optimizer, checkpoint_interval=15):\n",
    "    # Determine the device (GPU if available, otherwise CPU)\n",
    "    device = torch.device(\"cuda\" if torch.cuda.is_available() else \"cpu\")\n",
    "    \n",
    "    # Move models to the device\n",
    "    generator.to(device)\n",
    "    discriminator.to(device)\n",
    "\n",
    "    for epoch in range(epochs):\n",
    "        start = time.time()\n",
    "\n",
    "        # Iterate through batches in the dataset\n",
    "        for image_batch in dataset:\n",
    "            # Move the batch to the device\n",
    "            image_batch = image_batch[0].to(device)\n",
    "\n",
    "            # Perform a training step\n",
    "            gen_loss, disc_loss = train_step(image_batch, generator, discriminator, generator_optimizer, discriminator_optimizer)\n",
    "\n",
    "        # Clear output and display progress\n",
    "        display.clear_output(wait=True)\n",
    "        generate_and_save_images(generator, epoch + 1, seed)\n",
    "\n",
    "        # Save the model every checkpoint_interval epochs\n",
    "        if (epoch + 1) % checkpoint_interval == 0:\n",
    "            save_checkpoint(generator, discriminator, generator_optimizer, discriminator_optimizer, epoch + 1)\n",
    "\n",
    "        # Log time taken for the epoch\n",
    "        print(f'Time for epoch {epoch + 1} is {time.time() - start:.2f} sec')\n",
    "\n",
    "    # Generate images after the final epoch\n",
    "    display.clear_output(wait=True)\n",
    "    generate_and_save_images(generator, epochs, seed)\n",
    "\n"
   ]
  },
  {
   "cell_type": "code",
   "execution_count": 15,
   "id": "ac84e3b9-5961-4493-9950-97f9451aa6a0",
   "metadata": {},
   "outputs": [],
   "source": [
    "import matplotlib.pyplot as plt\n",
    "\n",
    "def generate_and_save_images(model, epoch, test_input):\n",
    "    # Determine the device from the model's parameters\n",
    "    device = next(model.parameters()).device\n",
    "\n",
    "    # Move the test input to the same device as the model\n",
    "    test_input = test_input.to(device)\n",
    "\n",
    "    # Generate predictions from the model\n",
    "    with torch.no_grad():  # Disable gradient calculation\n",
    "        predictions = model(test_input)\n",
    "\n",
    "    # Reshape and move predictions back to CPU for plotting\n",
    "    predictions = predictions.cpu().numpy()\n",
    "\n",
    "    # Set up the plot\n",
    "    fig = plt.figure(figsize=(4, 4))\n",
    "\n",
    "    for i in range(predictions.shape[0]):\n",
    "        plt.subplot(4, 4, i + 1)\n",
    "        # Convert the pixel values back to [0, 255]\n",
    "        plt.imshow(predictions[i, 0, :, :] * 127.5 + 127.5, cmap='gray')\n",
    "        plt.axis('off')\n",
    "\n",
    "    # Save the figure\n",
    "    plt.savefig(f'image_at_epoch_{epoch:04d}.png')\n",
    "    plt.show()\n"
   ]
  },
  {
   "cell_type": "markdown",
   "id": "2ebe490c-de8d-4b76-a681-c13ebcb568f4",
   "metadata": {},
   "source": [
    "## Train the Model"
   ]
  },
  {
   "cell_type": "code",
   "execution_count": 16,
   "id": "fdcb27f4-d955-4e40-b087-2e3c62eb62f3",
   "metadata": {},
   "outputs": [],
   "source": [
    "import os\n",
    "import torch\n",
    "\n",
    "def load_latest_checkpoint(checkpoint_dir, generator, discriminator, generator_optimizer, discriminator_optimizer):\n",
    "    # Find all checkpoint files in the directory\n",
    "    checkpoint_files = [f for f in os.listdir(checkpoint_dir) if f.endswith('.pth')]\n",
    "    if not checkpoint_files:\n",
    "        print(\"No checkpoint found.\")\n",
    "        return 0  # Start from epoch 0 if no checkpoint is available\n",
    "\n",
    "    # Find the latest checkpoint by sorting the filenames\n",
    "    latest_checkpoint = max(checkpoint_files, key=lambda f: int(f.split('_')[-1].split('.')[0]))\n",
    "    checkpoint_path = os.path.join(checkpoint_dir, latest_checkpoint)\n",
    "\n",
    "    # Load the checkpoint\n",
    "    checkpoint = torch.load(checkpoint_path)\n",
    "\n",
    "    # Restore the model and optimizer states\n",
    "    generator.load_state_dict(checkpoint['generator_state_dict'])\n",
    "    discriminator.load_state_dict(checkpoint['discriminator_state_dict'])\n",
    "    generator_optimizer.load_state_dict(checkpoint['generator_optimizer_state_dict'])\n",
    "    discriminator_optimizer.load_state_dict(checkpoint['discriminator_optimizer_state_dict'])\n",
    "    epoch = checkpoint['epoch']\n",
    "    \n",
    "    print(f\"Checkpoint restored from {checkpoint_path}, resuming from epoch {epoch + 1}\")\n",
    "    return epoch + 1\n"
   ]
  },
  {
   "cell_type": "code",
   "execution_count": 17,
   "id": "c30cb46a-3672-4dc2-ad8c-9d27b6a136eb",
   "metadata": {},
   "outputs": [
    {
     "data": {
      "image/png": "[encoded data removed]",
      "text/plain": [
       "<Figure size 400x400 with 16 Axes>"
      ]
     },
     "metadata": {},
     "output_type": "display_data"
    }
   ],
   "source": [
    "start_epoch = load_latest_checkpoint(checkpoint_dir, generator, discriminator, generator_optimizer, discriminator_optimizer)\n",
    "\n",
    "# Make sure to call the train function correctly\n",
    "train(train_loader, EPOCHS, generator, discriminator, generator_optimizer, discriminator_optimizer)"
   ]
  },
  {
   "cell_type": "markdown",
   "id": "84366e7b-e7bd-4bd6-bd89-3fa1799a4a34",
   "metadata": {},
   "source": [
    "## Create a GIF"
   ]
  },
  {
   "cell_type": "code",
   "execution_count": 20,
   "id": "ac7af4bb-ddd5-473c-a931-1a8ae31bce7d",
   "metadata": {},
   "outputs": [],
   "source": [
    "import PIL\n",
    "\n",
    "# Display a single image using the epoch number\n",
    "def display_image(epoch_no):\n",
    "  return PIL.Image.open('image_at_epoch_{:04d}.png'.format(epoch_no))"
   ]
  },
  {
   "cell_type": "code",
   "execution_count": 21,
   "id": "1581c8b1-99c5-49a5-b260-27dc9aa67b92",
   "metadata": {},
   "outputs": [
    {
     "data": {
      "image/png": "[encoded data removed]",
      "text/plain": [
       "<PIL.PngImagePlugin.PngImageFile image mode=RGBA size=400x400>"
      ]
     },
     "execution_count": 21,
     "metadata": {},
     "output_type": "execute_result"
    }
   ],
   "source": [
    "display_image(EPOCHS)"
   ]
  },
  {
   "cell_type": "code",
   "execution_count": 24,
   "id": "cbd31e70-df1f-4d59-b0df-2b3aa6324384",
   "metadata": {},
   "outputs": [
    {
     "name": "stderr",
     "output_type": "stream",
     "text": [
      "C:\\Users\\Devra\\AppData\\Local\\Temp\\ipykernel_19892\\1982054950.py:7: DeprecationWarning: Starting with ImageIO v3 the behavior of this function will switch to that of iio.v3.imread. To keep the current behavior (and make this warning disappear) use `import imageio.v2 as imageio` or call `imageio.v2.imread` directly.\n",
      "  image = imageio.imread(filename)\n",
      "C:\\Users\\Devra\\AppData\\Local\\Temp\\ipykernel_19892\\1982054950.py:9: DeprecationWarning: Starting with ImageIO v3 the behavior of this function will switch to that of iio.v3.imread. To keep the current behavior (and make this warning disappear) use `import imageio.v2 as imageio` or call `imageio.v2.imread` directly.\n",
      "  image = imageio.imread(filename)\n"
     ]
    }
   ],
   "source": [
    "anim_file = 'dcgan.gif'\n",
    "\n",
    "with imageio.get_writer(anim_file, mode='I') as writer:\n",
    "  filenames = glob.glob('image*.png')\n",
    "  filenames = sorted(filenames)\n",
    "  for filename in filenames:\n",
    "    image = imageio.imread(filename)\n",
    "    writer.append_data(image)\n",
    "  image = imageio.imread(filename)\n",
    "  writer.append_data(image)"
   ]
  },
  {
   "cell_type": "code",
   "execution_count": 25,
   "id": "2048532a-46f8-4570-9d71-f46c41676062",
   "metadata": {},
   "outputs": [
    {
     "ename": "ModuleNotFoundError",
     "evalue": "No module named 'tensorflow_docs'",
     "output_type": "error",
     "traceback": [
      "\u001b[1;31m---------------------------------------------------------------------------\u001b[0m",
      "\u001b[1;31mModuleNotFoundError\u001b[0m                       Traceback (most recent call last)",
      "Cell \u001b[1;32mIn[25], line 1\u001b[0m\n\u001b[1;32m----> 1\u001b[0m \u001b[38;5;28;01mimport\u001b[39;00m \u001b[38;5;21;01mtensorflow_docs\u001b[39;00m\u001b[38;5;21;01m.\u001b[39;00m\u001b[38;5;21;01mvis\u001b[39;00m\u001b[38;5;21;01m.\u001b[39;00m\u001b[38;5;21;01membed\u001b[39;00m \u001b[38;5;28;01mas\u001b[39;00m \u001b[38;5;21;01membed\u001b[39;00m\n\u001b[0;32m      2\u001b[0m embed\u001b[38;5;241m.\u001b[39membed_file(anim_file)\n",
      "\u001b[1;31mModuleNotFoundError\u001b[0m: No module named 'tensorflow_docs'"
     ]
    }
   ],
   "source": [
    "import tensorflow_docs.vis.embed as embed\n",
    "embed.embed_file(anim_file)"
   ]
  },
  {
   "cell_type": "code",
   "execution_count": null,
   "id": "8065599c-625a-41bb-99c8-753bea732058",
   "metadata": {},
   "outputs": [],
   "source": []
  },
  {
   "cell_type": "code",
   "execution_count": null,
   "id": "f4b82509-d3f5-4219-b170-4b6c07bc934c",
   "metadata": {},
   "outputs": [],
   "source": []
  }
 ],
 "metadata": {
  "kernelspec": {
   "display_name": "Python 3 (ipykernel)",
   "language": "python",
   "name": "python3"
  },
  "language_info": {
   "codemirror_mode": {
    "name": "ipython",
    "version": 3
   },
   "file_extension": ".py",
   "mimetype": "text/x-python",
   "name": "python",
   "nbconvert_exporter": "python",
   "pygments_lexer": "ipython3",
   "version": "3.12.3"
  }
 },
 "nbformat": 4,
 "nbformat_minor": 5
}
